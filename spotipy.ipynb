{
 "cells": [
  {
   "cell_type": "code",
   "execution_count": 1,
   "metadata": {},
   "outputs": [],
   "source": [
    "# imports\n",
    "import pandas as pd\n",
    "import numpy as np\n",
    "import spotipy #pip install spotipy first\n",
    "import os\n",
    "from decouple import config\n",
    "from spotipy.oauth2 import SpotifyClientCredentials # required to access user data\n",
    "import spotipy.util as util"
   ]
  },
  {
   "cell_type": "code",
   "execution_count": 2,
   "metadata": {},
   "outputs": [],
   "source": [
    "cid = \n",
    "secret = \n",
    "user = \n",
    "\n",
    "client_credentials_manager = SpotifyClientCredentials(client_id=cid, client_secret=secret)"
   ]
  },
  {
   "cell_type": "code",
   "execution_count": 3,
   "metadata": {},
   "outputs": [],
   "source": [
    "def get_token(scope=None): #get token and set scope later if want\n",
    "    redirect_uri = \"http://localhost:4000\"\n",
    "    token = util.prompt_for_user_token(user, scope, cid, secret, redirect_uri)\n",
    "    return token"
   ]
  },
  {
   "cell_type": "code",
   "execution_count": 4,
   "metadata": {},
   "outputs": [],
   "source": [
    "token = get_token(scope='playlist-modify-private') # can make public later\n",
    "\n",
    "sp = spotipy.Spotify(auth=token)"
   ]
  },
  {
   "cell_type": "code",
   "execution_count": 5,
   "metadata": {},
   "outputs": [],
   "source": [
    "df = pd.read_csv('data/sam.csv')\n",
    "df2 = df.copy().dropna()\n",
    "df3 = df2.copy().drop_duplicates()"
   ]
  },
  {
   "cell_type": "code",
   "execution_count": 6,
   "metadata": {},
   "outputs": [],
   "source": [
    "def make_playlist(dataframe):\n",
    "    make_playlist = sp.user_playlist_create(user, '99x - April - 2005', public=False)\n",
    "    mp_id = make_playlist[\"id\"]\n",
    "    \n",
    "    for i, j in dataframe.iterrows():\n",
    "        title_x = j.title\n",
    "        artist_x = j.artist\n",
    "        search_query = title_x + ' ' + artist_x\n",
    "        search_results = sp.search(q=search_query, limit=1)\n",
    "        try:\n",
    "            uri = [search_results[\"tracks\"][\"items\"][0][\"uri\"]]\n",
    "            sp.playlist_add_items(playlist_id=mp_id, items=uri)\n",
    "        except: pass\n",
    "    return mp_id"
   ]
  },
  {
   "cell_type": "code",
   "execution_count": 7,
   "metadata": {},
   "outputs": [
    {
     "data": {
      "text/plain": [
       "'25jFM3q542qULA0eX9xHAT'"
      ]
     },
     "execution_count": 7,
     "metadata": {},
     "output_type": "execute_result"
    }
   ],
   "source": [
    "make_playlist(df3)"
   ]
  },
  {
   "cell_type": "code",
   "execution_count": null,
   "metadata": {},
   "outputs": [],
   "source": []
  }
 ],
 "metadata": {
  "kernelspec": {
   "display_name": "Python 3",
   "language": "python",
   "name": "python3"
  },
  "language_info": {
   "codemirror_mode": {
    "name": "ipython",
    "version": 3
   },
   "file_extension": ".py",
   "mimetype": "text/x-python",
   "name": "python",
   "nbconvert_exporter": "python",
   "pygments_lexer": "ipython3",
   "version": "3.8.5"
  }
 },
 "nbformat": 4,
 "nbformat_minor": 4
}
